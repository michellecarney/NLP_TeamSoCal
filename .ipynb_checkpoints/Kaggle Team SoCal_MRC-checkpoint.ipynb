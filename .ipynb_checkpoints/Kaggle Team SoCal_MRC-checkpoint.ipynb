{
 "cells": [
  {
   "cell_type": "markdown",
   "metadata": {
    "collapsed": true
   },
   "source": [
    "# Kaggle Competition Submission by Team SoCal\n",
    "## Team: Nic Mon and Michelle Carney\n",
    "### 20161018"
   ]
  },
  {
   "cell_type": "code",
   "execution_count": 101,
   "metadata": {
    "collapsed": true
   },
   "outputs": [],
   "source": [
    "import pandas as pd\n",
    "import numpy as np\n",
    "import matplotlib.pyplot as plt\n",
    "%matplotlib inline\n",
    "import nltk\n",
    "import csv, sqlite3"
   ]
  },
  {
   "cell_type": "code",
   "execution_count": 7,
   "metadata": {
    "collapsed": false,
    "scrolled": true
   },
   "outputs": [
    {
     "ename": "CParserError",
     "evalue": "Error tokenizing data. C error: Expected 4 fields in line 23, saw 6\n",
     "output_type": "error",
     "traceback": [
      "\u001b[0;31m---------------------------------------------------------------------------\u001b[0m",
      "\u001b[0;31mCParserError\u001b[0m                              Traceback (most recent call last)",
      "\u001b[0;32m<ipython-input-7-d93638bb2f7b>\u001b[0m in \u001b[0;36m<module>\u001b[0;34m()\u001b[0m\n\u001b[0;32m----> 1\u001b[0;31m \u001b[0mdf\u001b[0m \u001b[0;34m=\u001b[0m \u001b[0mpd\u001b[0m\u001b[0;34m.\u001b[0m\u001b[0mread_csv\u001b[0m\u001b[0;34m(\u001b[0m\u001b[0;34m\"yelp_data_official_training.csv\"\u001b[0m\u001b[0;34m,\u001b[0m \u001b[0mlow_memory\u001b[0m\u001b[0;34m=\u001b[0m\u001b[0;32mFalse\u001b[0m\u001b[0;34m)\u001b[0m\u001b[0;34m\u001b[0m\u001b[0m\n\u001b[0m",
      "\u001b[0;32m//anaconda/lib/python3.5/site-packages/pandas/io/parsers.py\u001b[0m in \u001b[0;36mparser_f\u001b[0;34m(filepath_or_buffer, sep, delimiter, header, names, index_col, usecols, squeeze, prefix, mangle_dupe_cols, dtype, engine, converters, true_values, false_values, skipinitialspace, skiprows, skipfooter, nrows, na_values, keep_default_na, na_filter, verbose, skip_blank_lines, parse_dates, infer_datetime_format, keep_date_col, date_parser, dayfirst, iterator, chunksize, compression, thousands, decimal, lineterminator, quotechar, quoting, escapechar, comment, encoding, dialect, tupleize_cols, error_bad_lines, warn_bad_lines, skip_footer, doublequote, delim_whitespace, as_recarray, compact_ints, use_unsigned, low_memory, buffer_lines, memory_map, float_precision)\u001b[0m\n\u001b[1;32m    560\u001b[0m                     skip_blank_lines=skip_blank_lines)\n\u001b[1;32m    561\u001b[0m \u001b[0;34m\u001b[0m\u001b[0m\n\u001b[0;32m--> 562\u001b[0;31m         \u001b[0;32mreturn\u001b[0m \u001b[0m_read\u001b[0m\u001b[0;34m(\u001b[0m\u001b[0mfilepath_or_buffer\u001b[0m\u001b[0;34m,\u001b[0m \u001b[0mkwds\u001b[0m\u001b[0;34m)\u001b[0m\u001b[0;34m\u001b[0m\u001b[0m\n\u001b[0m\u001b[1;32m    563\u001b[0m \u001b[0;34m\u001b[0m\u001b[0m\n\u001b[1;32m    564\u001b[0m     \u001b[0mparser_f\u001b[0m\u001b[0;34m.\u001b[0m\u001b[0m__name__\u001b[0m \u001b[0;34m=\u001b[0m \u001b[0mname\u001b[0m\u001b[0;34m\u001b[0m\u001b[0m\n",
      "\u001b[0;32m//anaconda/lib/python3.5/site-packages/pandas/io/parsers.py\u001b[0m in \u001b[0;36m_read\u001b[0;34m(filepath_or_buffer, kwds)\u001b[0m\n\u001b[1;32m    323\u001b[0m         \u001b[0;32mreturn\u001b[0m \u001b[0mparser\u001b[0m\u001b[0;34m\u001b[0m\u001b[0m\n\u001b[1;32m    324\u001b[0m \u001b[0;34m\u001b[0m\u001b[0m\n\u001b[0;32m--> 325\u001b[0;31m     \u001b[0;32mreturn\u001b[0m \u001b[0mparser\u001b[0m\u001b[0;34m.\u001b[0m\u001b[0mread\u001b[0m\u001b[0;34m(\u001b[0m\u001b[0;34m)\u001b[0m\u001b[0;34m\u001b[0m\u001b[0m\n\u001b[0m\u001b[1;32m    326\u001b[0m \u001b[0;34m\u001b[0m\u001b[0m\n\u001b[1;32m    327\u001b[0m _parser_defaults = {\n",
      "\u001b[0;32m//anaconda/lib/python3.5/site-packages/pandas/io/parsers.py\u001b[0m in \u001b[0;36mread\u001b[0;34m(self, nrows)\u001b[0m\n\u001b[1;32m    813\u001b[0m                 \u001b[0;32mraise\u001b[0m \u001b[0mValueError\u001b[0m\u001b[0;34m(\u001b[0m\u001b[0;34m'skip_footer not supported for iteration'\u001b[0m\u001b[0;34m)\u001b[0m\u001b[0;34m\u001b[0m\u001b[0m\n\u001b[1;32m    814\u001b[0m \u001b[0;34m\u001b[0m\u001b[0m\n\u001b[0;32m--> 815\u001b[0;31m         \u001b[0mret\u001b[0m \u001b[0;34m=\u001b[0m \u001b[0mself\u001b[0m\u001b[0;34m.\u001b[0m\u001b[0m_engine\u001b[0m\u001b[0;34m.\u001b[0m\u001b[0mread\u001b[0m\u001b[0;34m(\u001b[0m\u001b[0mnrows\u001b[0m\u001b[0;34m)\u001b[0m\u001b[0;34m\u001b[0m\u001b[0m\n\u001b[0m\u001b[1;32m    816\u001b[0m \u001b[0;34m\u001b[0m\u001b[0m\n\u001b[1;32m    817\u001b[0m         \u001b[0;32mif\u001b[0m \u001b[0mself\u001b[0m\u001b[0;34m.\u001b[0m\u001b[0moptions\u001b[0m\u001b[0;34m.\u001b[0m\u001b[0mget\u001b[0m\u001b[0;34m(\u001b[0m\u001b[0;34m'as_recarray'\u001b[0m\u001b[0;34m)\u001b[0m\u001b[0;34m:\u001b[0m\u001b[0;34m\u001b[0m\u001b[0m\n",
      "\u001b[0;32m//anaconda/lib/python3.5/site-packages/pandas/io/parsers.py\u001b[0m in \u001b[0;36mread\u001b[0;34m(self, nrows)\u001b[0m\n\u001b[1;32m   1312\u001b[0m     \u001b[0;32mdef\u001b[0m \u001b[0mread\u001b[0m\u001b[0;34m(\u001b[0m\u001b[0mself\u001b[0m\u001b[0;34m,\u001b[0m \u001b[0mnrows\u001b[0m\u001b[0;34m=\u001b[0m\u001b[0;32mNone\u001b[0m\u001b[0;34m)\u001b[0m\u001b[0;34m:\u001b[0m\u001b[0;34m\u001b[0m\u001b[0m\n\u001b[1;32m   1313\u001b[0m         \u001b[0;32mtry\u001b[0m\u001b[0;34m:\u001b[0m\u001b[0;34m\u001b[0m\u001b[0m\n\u001b[0;32m-> 1314\u001b[0;31m             \u001b[0mdata\u001b[0m \u001b[0;34m=\u001b[0m \u001b[0mself\u001b[0m\u001b[0;34m.\u001b[0m\u001b[0m_reader\u001b[0m\u001b[0;34m.\u001b[0m\u001b[0mread\u001b[0m\u001b[0;34m(\u001b[0m\u001b[0mnrows\u001b[0m\u001b[0;34m)\u001b[0m\u001b[0;34m\u001b[0m\u001b[0m\n\u001b[0m\u001b[1;32m   1315\u001b[0m         \u001b[0;32mexcept\u001b[0m \u001b[0mStopIteration\u001b[0m\u001b[0;34m:\u001b[0m\u001b[0;34m\u001b[0m\u001b[0m\n\u001b[1;32m   1316\u001b[0m             \u001b[0;32mif\u001b[0m \u001b[0mself\u001b[0m\u001b[0;34m.\u001b[0m\u001b[0m_first_chunk\u001b[0m\u001b[0;34m:\u001b[0m\u001b[0;34m\u001b[0m\u001b[0m\n",
      "\u001b[0;32mpandas/parser.pyx\u001b[0m in \u001b[0;36mpandas.parser.TextReader.read (pandas/parser.c:8771)\u001b[0;34m()\u001b[0m\n",
      "\u001b[0;32mpandas/parser.pyx\u001b[0m in \u001b[0;36mpandas.parser.TextReader._read_rows (pandas/parser.c:9901)\u001b[0;34m()\u001b[0m\n",
      "\u001b[0;32mpandas/parser.pyx\u001b[0m in \u001b[0;36mpandas.parser.raise_parser_error (pandas/parser.c:23325)\u001b[0;34m()\u001b[0m\n",
      "\u001b[0;31mCParserError\u001b[0m: Error tokenizing data. C error: Expected 4 fields in line 23, saw 6\n"
     ]
    }
   ],
   "source": [
    "df = pd.read_csv(\"yelp_data_official_training.csv\", low_memory=False)"
   ]
  },
  {
   "cell_type": "code",
   "execution_count": 33,
   "metadata": {
    "collapsed": false
   },
   "outputs": [],
   "source": [
    "with open(\"yelp_data_official_training.csv\") as csvfile:\n",
    "    training = csv.reader(csvfile, delimiter= '\\t')\n",
    "    training_set = []\n",
    "    for row in training:\n",
    "        training_set.append(' '.join(row))"
   ]
  },
  {
   "cell_type": "code",
   "execution_count": 38,
   "metadata": {
    "collapsed": false
   },
   "outputs": [
    {
     "data": {
      "text/plain": [
       "['ID|Category|Review Text',\n",
       " \"0|2|Don't waste your time.  We had two different people come to our house to give us estimates for a deck (one of them the OWNER).  Both times, we never heard from them.  Not a call, not the estimate, nothing.\",\n",
       " '1|2|\"I will start by saying we have a nice new deck. That is where the good part ends.',\n",
       " '',\n",
       " \"Why two stars if we have a nice deck now? Well, it all started in May when we had a man named Al come out and talk to us about the process. He was a true salesman, I'll tell you that. Not a straight shooter, but an excited salesman that wanted to sell... And we bought into it.\",\n",
       " '',\n",
       " 'He told us they were backed up with the harsh winter and a lot of jobs, but they could probably start by June 24th. Mind you, this was the end of May we met with him. He said they would have to do a survey of our land and get a permit from Dormont before they started. We felt confident in going with them, and booked it.',\n",
       " '',\n",
       " \"Here's where things fell apart. Weeks went by with no word from them on the process. Finally I called and left messages. Al finally got in touch with me and the conversation was utterly confusing. He must have not understood me because he just kept talking in circles. So I hung up not knowing what was going on. Finally I called back and the admin told me that the survey could take a couple weeks to come back. I wish Al would have told us that.\",\n",
       " '',\n",
       " 'So our June 24th date came and went. We finally got our survey. And they were quick to bill us for it, but no word on where we were in the process. I called back a couple times with no real answers from the admin. Apparently they were now waiting for the permit from Dormont.',\n",
       " '',\n",
       " 'A month later, I was frustrated and asked to speak with someone at the company. I spoke with someone who told me that Dormont usually takes a week to process the permit, but we were now going on a month. He told me he would bug the guy about it and we finally got it. ',\n",
       " '',\n",
       " \"I completely understand that waiting on the permit is not their fault, but why no communication about it? Just call me and tell me they're waiting for the permit, but they'll work towards asking Dormont what the hold up is. Seems simple.\",\n",
       " '',\n",
       " \"Finally we get the permit and work is supposed to start. Tuesday comes and they have to wait for approval from Dormont on holes they're digging. So holes are dug and equipment is put in my backyard and then nothing happens for two days. Where did everyone go? Who knows, because I wasn't informed! \",\n",
       " '',\n",
       " 'I was upset and contacted the company owner, Dave, by email. I told him how frustrated I was about the lack of communication. He wrote me two sentences that  said \"\"there will be acres there tomorrow morning to finish and most will be done tomorrow.\"\" Well, that didn\\'t happen.',\n",
       " '',\n",
       " \"Then two other dudes show up two days later and did work for about three hours and left. The main guy comes back the next day and says they did it wrong. So apparently the part about how they wouldn't need access to my house changes to they're drilling bolts into my house to secure he deck. \",\n",
       " '',\n",
       " \"Finally, the second week into construction, my tiny 10x11 foot deck is done. It was upsetting that they left the deck dirty, and all the dirt and cement they moved around wasn't cleaned up. I even asked them to fill all the holes they dug up and didn't use, and they only filled up one. When you create a construction project, isn't it just good business to clean it up and make it look nice? Didn't happen here.\",\n",
       " '',\n",
       " \"My main point is, contractors have a reputation for not being the most trustworthy. Why be that company? Why not be an upstanding company that consumers can trust? My main issues with them were that things were not communicated to me properly up front, nor was the ongoing process communicated to me. Then they left everything unfinished in my eyes, leaving the site dirty. I understand things happen and things get delayed, but just email or call me. It's not that hard to keep me updated, it is 2014 with a million ways to be contacted.\",\n",
       " '',\n",
       " 'Even though I have a nice deck (after I clean things up myself!), I would not recommend them to anyone.\"',\n",
       " '2|2|When I wanted a deck for the back of my home I ended up calling Quaker State Construction. It ended up working very well and they were very polite. I got an estimate and called them to start working out the details of my new deck. Once we got the plans all sorted out they started building my new deck and it was finished with in a reasonable amount of time. I now have a beautiful deck that I can relax and that my family can enjoy. Overall, they did a good job and I would use them in the future for all my deck necessities.',\n",
       " \"3|5|Our cat went out the other night and must have gotn into a fight. He was wounded but we could not tell the extent of his injuries. My girlfriend called them today and they made an appt for us immediately.  When we got there, I couldn't believe how friendly and caring they all were. We went into the exam room with doctor Tierney Kelley and a vet asst Sam. They were the best. So gentle and caring. They did not pressure us into any procedures that my cat did not need. They worked hard So we didn't have to leave him over night. This was by far the best veterinarian I have gone to in all my years as a pet owner. This has all become a racket for making money. Doctors don't care about the animals in 90% of the places you go, but Greetree animal clinic is not one of those places. I will be taking my other pets there from now on and recommend this place and Doctor Kelly to everyone I know. Thank you so much again if you read this. Doctors Kelley you're the best.\",\n",
       " '4|5|Greentree Animal clinic is the absolute best!  We have had both Dr Mann and Dr. Reuther.  Both are very good, each in their own strengths.  I recently had to have my beloved dog euthanized due to a tumor growing on his hip.  Dr. Mann was very sensitive and caring to my feelings of loss.  He offered to make a clay paw print from my dog after he passed.  He went above and beyond to make sure he had a peaceful passing with me by his side.  Thank you for allowing me that experience, and for guiding me through the process.',\n",
       " '5|5|\"I cannot praise this place enough. I have worked as a vet tech in a previous job and have had experiences at numerous facilities here in Pittsburgh and Greentree Animal Clinic blows them all out of the water. Key things that you should note about this place:',\n",
       " '* They do not over charge',\n",
       " '* They only recommend services/things that they genuinely believe will help your pet, not their bottom line and they do not pressure you in any way',\n",
       " '* They are respectful and genuine to you and your pet which is hard to come by nowadays',\n",
       " '* Everyone from the front desk to the techs, to the vets are kind, patient and understanding. No condescension or poor attitudes, just positive vibes all around. ',\n",
       " \"* Dr Brown goes above and beyond any vet I've ever met. He has shown so much care, professionalism,  kindness and knowledge that I will gladly refer anyone with a pet to him because I know they will be in good hands and his fellow vets (Dr Reuther, Dr Kelley, and Dr Mann)  are just as phenomenal. \",\n",
       " '',\n",
       " 'Thankyou Greentree Animal Clinic for setting the bar where it should be for all Veterinary Care Facilities.\"',\n",
       " '6|5|I can;t believe this place has a high rating. I had a bichon, who was seen here since his puppyhood and who was dying. I called to make an appointment to have him put down because he was in great pain. The receptionist would not give me an appointment until one week later, even though she could hear him crying out in pain. Anyway, he died in agony before his appointment. This was in 2010 and I have not taken my subsequent pets to the clinic.',\n",
       " \"7|5|Three months ago I brought my 13 yr old golden retriever to this clinic for an ear problem. It was diagnosed and treated.  Shortly after returning home she started to cough and gag like.  I watched her for a couple hours do this and then called the vet to see if maybe she was having an allergic reaction to the medicine they gave her.  She was very uncomfortable.  I asked if they though she needed to come back to the office.  The dr told me that it sounded like she was overheated and to put cold towels on her.  I told him that I didn't think that was the problem because she hadn't been out.  At this point they were open and would be for another hour.   Two hours later I was at a vet hospital with them telling me she is suffering from a heart problem and that they really couldn't do anything for her.  WHAT?!?!  So I found myself having to put her down.  Fast forward to now.  I have a 14 wk puppy that has blood in its stool. They have not seen her yet. I bring in a sample.  Wait 24 hrs.  They leave a message that it's positive and to call for an appt.  I call. She has to wait 4 days to be seen.  WHAT?!?!?   Obviously my pups are out of there for good!  Thanks Greentree for caring for my animals...  Absolutely the worst care in all my experience with vets!!\",\n",
       " \"8|4|Unfortunately, I only have one complaint about this dry cleaners. It was well kept and clean inside. The man waiting on me (I'm guessing the owner) was very nice, both dropping off and picking up, even though I lost my ticket. Turn around time was OK for a cleaners that don't do cleaning on premises. What's my problem then? Price. My daughter's dress was $18 to clean. I think that's close to what I paid for it. My ladies shirts were $6/unit. Maybe I'm not calibrated on Pgh prices but this seems outrageous. My search continues for a neighborhood cleaners. BTW, they do men's tailoring there on-site and it looks like it might be a big part of their business. I would try them again for that (after I check costs!)\",\n",
       " \"9|4|Never go to Rossi Tailoring and Dry Cleaners 393 Vanadium Road Pittsburgh, PA 15243. I decided to use a local business to do my dry cleaning. I dropped off 3 shirts at this establishment just before Thanksgiving. It is now late January. I have stopped by more than a half dozen times and have been given only ONE of the shirts. They have offered $20 a shirt for the shirts they lost. Those shirts are worth at least $50 each, and I refuse to take under $30 for each. I am tired of the run around, tired of promised phone calls that never happen (they have NEVER called me).  I wouldn't use their services again if you paid me to.\",\n",
       " '10|4|\"I went to Rossi\\'s for my first time, two weeks ago. I had two suits and one jacket tailored. Everything was ready in less than two weeks. These suits were brand new and on the expensive side. I didn\\'t know who to trust them with. I went to Rossi\\'s because a friend highly recommended them. My friend had a tuxedo custom made by Rossi\\'s. ',\n",
       " '',\n",
       " 'I am extremely happy with the end results!',\n",
       " '',\n",
       " \"I wanted a European cut on jackets and no break on the slacks; a nice tailored look. The suits look awesome. I'm going to go through my closet and take some of my older suits to be tailored (some of my older suits are a little looser fitting; I now like the more tailored European look). Juliano (the owner) will shorten the length of my jackets, take the sides in and shorten my slacks. They'll look brand new.\",\n",
       " '',\n",
       " \"As for the price, I'm very happy. I wouldn't go to the cheapest barber in town (for obvious reason). I feel the same about a good tailor. As for the service, they couldn't be nicer. \",\n",
       " '',\n",
       " 'Thanks for a job well done!\"',\n",
       " \"11|4|Having certain businesses with skill sets in your local neighborhood is important.  I try to keep it as local as possible, so when I heard about a tailor in Carnegie I was intrigued.  The building is in a strip mall across from Carnegie Coffee Company.  Unassuming, looks like it is closed all the time, until you do a drive by and see the hours posted.  There is a Latino man in his 20's working when you arrive.  In my mind, I imagine a tailor to be older, kind of like my grandfather maybe with measuring tape around his neck (Textbook movie tailor), so I was a bit trepidatious about dropping off my clothing.  He asks you to go change into a closet (Yes, a closet to change in with one lightbulb) BUT all my worries aside, the moment he started working on my items I knew he was the real deal. He learned from his father at the age of 14 how to sew. and he does things the correct way.  Meaning, for example-  I took in a pair of khakis all the way down to the cuff, but he seamed them up to look EXACTLY the way they were when I first bought them.  Most placed will have bulges and puckers.  The rest of my items were just as perfect.  Very inexpensive at $10 for a pair of pants to adjust the hem.  The items were done in a timely manner.  He takes his business very seriously.  While I was there, I watched a lady rush in and demand 6 shirts to be altered in an hour, and he did it and charged the same price.  Really nice guy, please go and support this business to keep him around town!\",\n",
       " '12|4|\"New to area and decided to pay this shop a visit! It was definitely the best experience I\\'ve ever had with a tailor. He is MUCH cheaper than the other shops, he charges 10 while others charge $15, and he goes above and beyond for what he charges.',\n",
       " '',\n",
       " \"I dropped off 4 jeans, and he hemmed and tapered the jeans! I couldn't even tell the difference between the store bought jeans and the quality of his work. It was absolutely perfect, no bulges or puckers! They the match the exact stitch as the factory. \",\n",
       " '',\n",
       " 'Absolutely a great guy, they were all done and waiting for me as promised! I\\'ll definitely be taking all of my business to this place, and would highly recommend to anyone who is looking for a personal tailor who actually cares about his work and building an honest business.\"',\n",
       " '13|4|\"I needed alterations done to my suit very quickly. Like three days quickly. Not only did Filberto at Alteration World have it ready, the price was beyond reasonable and the work was EXCELLENT! I plan on bringing all my clothes to him from now on.',\n",
       " '',\n",
       " 'Oh and he let me know that they also dry-clean. Wonderful shop!\"',\n",
       " '14|4|This is the best alteration place I have been to. The guy that owns it is extremely helpful and works FAST. Also, the prices are so reasonable I wonder how he stays in business. He was able to do an alteration on short notice and was very acommodating. The alteration I needed done--and fast--was right in the middle of prom season. All the other places I called gave me a several week wait, but he took me right away. I will be back!',\n",
       " '15|4|I just needed a broken zipper replaced on my favorite Penguins fleece jacket and a pair of suit pants hemmed.  The price was very reasonable and the work done was great.  I will go back for all my tailoring needs and highly recommend if you need any done.',\n",
       " \"16|4|So happy I found this place! I'm new to the Pittsburgh area and wasn't sure if it was worth driving to Carnegie to come here, but Yelp convinced me. It was completely worth the trip! Since it would have been a long trip to come back, the guys at Alteration World finished my work (patching a hole on a pair of jeans) in less than half an hour (I killed time at an adorable coffee shop across the street) and exactly as I had specified. Oh, and the price was extremely reasonable as well. Thanks Yelp for another great find!\",\n",
       " '17|4|My bridesmaid dress alterations were perfect. I would not hesitate to come back for alterations or dry cleaning.',\n",
       " '18|4|The service, quality, and speed of Alteration World are incredible! I have had suits and pants altered here and have been thoroughly impressed by the work. Everything has fit perfectly and the work was quality. I will be returning here exclusively for my tailoring needs and have referred many customers already. If you need anything altered (or even something custom made), do not hesitate to go to Alteration World.',\n",
       " '19|4|\"I have taken things here before and loved how \"\"reasonably priced\"\" they are. My most resent experience here was so horrible my family and I will never go back. The business is not run the way it has been in the past.  I took a dress that needed taken in in the back and around the neck. When I went to pick it up it was not even ready then to find out the next day that I was being charged $60. My family and I have been coming here for a few years and never ever spent anything even remotely close to $60 worth on alterations. My mom came down to pick up two things right before and and her total was $25... Not only are the prices extremely inconsistent when I finally got the dress the neck was still way too loose and the zipper didn\\'t go up all the way I had to pin the dress myself and wear it with safety pins to a wedding. I was not able to get my money back because apparently \"\"it wasn\\'t his fault\"\" and he told me not to worry about it. This is probably the worst business in Carnegie. ',\n",
       " '',\n",
       " ' Is it possible to give zero stars?\"',\n",
       " \"20|3|By far the worst most unprofessional dentist I have ever experienced her staff is too busy watching soap operas on all the TVs in each room instead of cleaning and she gave me a filling which was too deep which could have been understandable as her son had his pictures delivered from Hawaii and she had to stop 3 times to pay for them and show her whole staff all of them must be nice to have a 14 year old go to Hawaii on her moms dime and have her patience wait to see all of this happen I had to have oral surgery and have the tooth removed because she put the filling in too deep an abscessed tooth was the result I wouldn't recommend her to an ex girlfriend or someone I hate because of the three months of extreme tooth pain I had to deal with because of her lack of care and follow through even after I called and asked them for advice and follow up they simply could care less and did not even offer to reschedule an appointment other than prescribing me vicodin and antibiotics do not recommend and do not go to her license should be pulled!!\",\n",
       " \"21|3|When I moved to the area, Dr. Weinberg was recommended to me by my cousin who had been a client for years. I've had nothing but positive experiences with her and her staff since seeing her two years ago. The team is professional, nice and courteous. I recently had to reschedule an appointment due to a last minute work thing and they were very accommodating. My daughter looks forward to coming to the dentist so that's saying something. I DO wish they would turn off FOX news in the lobby as I'd rather watch paint dry but... nobody's perfect.\",\n",
       " '22|3|\"In all fairness - I did not see this dentist but did schedule an appointment and waited 15 minutes for them to open.',\n",
       " '',\n",
       " 'When I look at Yelp reviews, I usually weed out the outliers (the best and the worst).   Unfortunately, there are only two reviews.',\n",
       " '',\n",
       " 'It was my first time at the office.   The office admin (very nice) asked for me to come early (before 9am) to complete paperwork.   I arrived at 8:50.    I waited.   I watched 2 employees walk by me (unlocked the door and re-locked it).    They did not acknowledge me.',\n",
       " '',\n",
       " 'The door I was at had signage (open hours).    I decided to leave because of a review where the staff seemed distracted or disinterested in my presence.',\n",
       " '',\n",
       " 'The office admin (very nice) called me to inform I am missing my appointment.   I explained to her that there were too many indications where this was not going to be a good fit and wished her the best of luck.',\n",
       " '',\n",
       " 'I recommend if you see this dentist you go to the front door (furthest away from the parking lot) for the entrance.',\n",
       " '',\n",
       " 'Poor recommendation because the staff who walked by me seemed to be distracted which was pointed out in a previous review.\"',\n",
       " \"23|3|I've been to this office a good amount of times.  Each time the receptionists give of a vibe of entitlement and it is very uncomfortable.  Dr. Weinberg herself is very nice, but I doubt her ability. Every procedure she has done to my teeth has backfired. The third and last issue I have is that i always paid cash at the end of my visits and somehow I have received an invoice for $55. I called and of course the receptionist was sassy and rude so I gave up. Will never go back or refer anyone else\",\n",
       " '24|3|\"My family (husband and 3 young children) have been seeing Dr. Weinberg for a few years. We\\'ve never had an issue. She\\'s great with the kids, even my 6 year old who has autism. Scheduling and rescheduling appts is \"\"fine\"\", the wait time is fine, the care is fine. Basically I have had no issues, but I haven\\'t had my socks blown off either. It\\'s the dentist, it is what it is. I do find the dentist to be a bit frazzles, but we\\'ve never had an issue.\"',\n",
       " \"25|3|All I need to say is that my 6 year old could not wait to see Dr. Weinberg and her staff! Not only are they professional and kind,  they have made my child have a life time of good oral health care!  This busy mom loves that they can provide two appointments, at the same time.  I can't imagine having a better family dentist!\",\n",
       " \"26|3|Just moved to the area and needed a dentist after getting my front tooth chipped playing hockey.  She did an amazing job at fix my tooth and cleaned up the front teeth while doing it.  I was able to get in and have my tooth fixed within a few days of it happening.  I've gotten a few fillings as well after my chip was fixed.  The doctor is great and so are the staff.  I would recommend going here.\",\n",
       " '27|5|\"I took my sick cat here and they charged me $$$$ for blood work and then never called me with results. I had to chase down the results and finally spoke to a different vet than the one who examined my cat. He said my cat \"\"absolutely did not have hyperthyroid\"\". They said my cat\\'s problems were behavioral and were rude and dismissive of my concerns. I finally took my cat to another vet who diagnosed him with hyperthyroidism. I\\'m trying medication now and I hope the illness hasn\\'t progressed too far. Otherwise I\\'ll have to have him put to sleep. Don\\'t take your cat here.\"',\n",
       " '28|5|\"I had gone here years ago and hated it. The doctors weren\\'t very nice or caring. However, I wasn\\'t happy with my current vet and decided to give the place another chance because I saw that all of the veterinarians had changed and the location is so convenient for me. I\\'m so happy I did! The doctor was great. We saw Dr. Martinovich after we adopted our new dog. She was so wonderful with him. She clearly loves animals. She was gentle with him and very thorough. The cost was higher than I had hoped but for the experience, I didn\\'t mind. I will absolutely go back and plan on taking both of my cats here at some point as well. Very pleased! Great place.',\n",
       " '-----------------------------------------------------------------------------------------------------------------',\n",
       " 'UPDATE: Every single time we have gone to this place we have been satisfied. Seen quickly and gotten great care for our pets. Dr. Lasota is wonderful! We won\\'t ever be going anywhere else if we can help it!\"',\n",
       " \"29|3|I'm up in the air about how I feel regarding Emmert Dental. Being that it is located in Market Square can be both a good or bad thing. Parking is scarce not to mention you have to pay for it yet you have great restaurants and coffee places around you. The office itself is old and raggedy looking but the staff are young and hip. I think possibly a little too young and hip. My dentist knew what she was doing but I didn't adore her. I'm still working out my bill because they charged me too much on my copay and don't really seem to have all their info. together. After a cleaning and fillings, I think I'm going to look for somewhere else to get my future dental work done...\",\n",
       " \"30|3|I've decided where I stand with Emmert Dental. They are unprofessional, rude and have no clue what they're doing (behind the desk). I will not be going back nor will I have nice things to say about them.\",\n",
       " '31|3|\"THE WORST DENTAL EXPERIENCE OF MY LIFE.  THEY ARE BUTCHERS!  My husband and I went to Emmert Dental in Bethel Park for a routine cleaning and check up.  I had one tooth that I had a recent root canal on and a few small cavities that needed filled.  After the so called dentist - Dr Carnavali - did my exam, I needed 3 additional root canals and an extraction! An extraction on the tooth that just had a root canal. I was told that part of the tooth had broken off and that a crown was no longer possible.  I didn\\'t know any better, so I agreed to schedule the extraction for a few weeks later. The \"\"dentist\"\" wanted to extract it that day, but I had plans for the weekend and was not about to be in pain. So, 2 weeks later, I went in for the extraction.  After they gave me novocaine they get me with \"\"you need a bone graft also in that area since we are extracting that tooth\"\". I have never had any issues with bone loss with previous extractions so I didn\\'t feel it was necessary. I had 3 employees surrounding me, pressuring me for this bone graft. So, I reluctantly agreed. I had to pay $259.00 for this \"\"bone graft\"\". So, I signed everything. I wasn\\'t even given enough time to read the document, so I should have known and got up and left right then and there. The \"\"dentist\"\" started the extraction. I have never been so uncomfortable in my life. He pulled on my tooth, used a metal instrument to pound on my tooth and was pulling so hard that my head was coming up and slamming back down against the head rest.  Finally, after a good 15 minutes of this torture, he ripped the tooth out of the side of my jaw. I was literally ganging from all the blood running down the back of my throat. He then stuck some pink powder up in the extraction area. I\\'m assuming this was the bone graft.  I ended up with many stitches. I was given an antibiotic and instructed to schedule an appointment for the following Saturday so they could start the bridge. Then I was hit with a bill of $569.00! My insurance covers 100% of extractions.  I was in so much pain for 2 weeks following the extraction. Pain severe enough that I had to call off work and I couldn\\'t sleep at night.  I refused to go back to Emmert Dental.  And after a visit to a very reputable dentist, an endodontist and an oral surgeon, I have to have oral surgery to try and repair the damage Emmert Dental has done to my mouth.  They caused a very large deformity in my jaw and I am at risk to lose additional teeth.  Save yourself a lot of time, money and pain.  Emmert dental only cares about the money, will over charge you and leave you less than happy with the dental work.  They are butchers and should not even call themselves dentist. And if you have an issue with their billing practices, don\\'t expect to that resolved easily.  I have called numerous times and I am always told that the manager and or billing department is not in.  I have contacted the BBB and a lawyer.  I expect and want a full refund.  No one should have to go thru what I am currently going thru.  They do unnecessary extractions so they can do a more expensive procedure such as a bridge or an implant.  Now I have to go thru oral surgery, more pain and suffering and more time missed from work because of Emmert Dental.  And the root canals they said I needed, my current dentist and my endodontist both agreed that I do not need tooth canals.  In fact, the teeth are perfectly healthy.  They are crooks and butchers.\"',\n",
       " '32|3|The worst dental office I ever been. No one can beat it!!! You should avoid it at any time.',\n",
       " \"33|3|Despite the low rating here on Yelp, I don't feel this dental office is all that bad. The office looks new or renovated, clean and organized. Emmert Dental has three locations: Settler's Ridge, Market Square and Bethel Park. I'm usually a patient of the Market Square location of Emmert Dental and so far, I prefer the Settler's Ridge location. I came here for an emergency appointment and this was the only office that could squeeze me in. I arrived 15 minutes early and they called me back exactly at my appointment time. The assistant was so friendly and made me feel comfortable at all times. The doctor was also friendly and made a great effort to make sure I left satisfied. I was in and out in a matter of minutes and the service was great.\",\n",
       " '34|3|\"I went here to have my teeth cleaned and they told me they found a cavity. Since I have never had a cavity in my life, I asked the dentist to show it to me on the x-ray and he said he wasn\\'t able to. I didn\\'t feel comfortable with his diagnosis so I went to another dentist (whose office is not a chain like Emmert) and that dentist did not find a cavity. This was three years ago and my teeth are fine, still no cavities. ',\n",
       " '',\n",
       " 'I don\\'t believe in going to a dental chain and I don\\'t recommend anyone else goes either. I have read horrible articles about their pushy sales tactics and performing un-needed procedures which is what I would have experienced at Emmert had I not been smart enough to find a second opinion. There are better, independent dentists in the area and I recommend people to go to them.\"',\n",
       " \"35|3|Would not have my dogs teeth cleaned here ! This place is one of the worst dental offices I've ever walked into . Enough said\"]"
      ]
     },
     "execution_count": 38,
     "metadata": {},
     "output_type": "execute_result"
    }
   ],
   "source": [
    "training_set[0:100]"
   ]
  },
  {
   "cell_type": "code",
   "execution_count": 82,
   "metadata": {
    "collapsed": false
   },
   "outputs": [
    {
     "name": "stdout",
     "output_type": "stream",
     "text": [
      "14|4|This is the best alteration place I have been to. The guy that owns it is extremely helpful and works FAST. Also, the prices are so reasonable I wonder how he stays in business. He was able to do an alteration on short notice and was very acommodating. The alteration I needed done--and fast--was right in the middle of prom season. All the other places I called gave me a several week wait, but he took me right away. I will be back!\n"
     ]
    }
   ],
   "source": [
    "print(training_set[60])"
   ]
  },
  {
   "cell_type": "code",
   "execution_count": 138,
   "metadata": {
    "collapsed": false
   },
   "outputs": [
    {
     "ename": "IndexError",
     "evalue": "string index out of range",
     "output_type": "error",
     "traceback": [
      "\u001b[0;31m---------------------------------------------------------------------------\u001b[0m",
      "\u001b[0;31mIndexError\u001b[0m                                Traceback (most recent call last)",
      "\u001b[0;32m<ipython-input-138-606b7e8606c9>\u001b[0m in \u001b[0;36m<module>\u001b[0;34m()\u001b[0m\n\u001b[1;32m      5\u001b[0m      'Review': [] }\n\u001b[1;32m      6\u001b[0m \u001b[0;32mfor\u001b[0m \u001b[0mrow\u001b[0m \u001b[0;32min\u001b[0m \u001b[0mtraining_set\u001b[0m\u001b[0;34m[\u001b[0m\u001b[0;36m1\u001b[0m\u001b[0;34m:\u001b[0m\u001b[0;36m62\u001b[0m\u001b[0;34m]\u001b[0m\u001b[0;34m:\u001b[0m\u001b[0;34m\u001b[0m\u001b[0m\n\u001b[0;32m----> 7\u001b[0;31m     \u001b[0;32mif\u001b[0m \u001b[0mint\u001b[0m\u001b[0;34m(\u001b[0m\u001b[0mrow\u001b[0m\u001b[0;34m[\u001b[0m\u001b[0;36m0\u001b[0m\u001b[0;34m]\u001b[0m\u001b[0;34m)\u001b[0m \u001b[0;34m==\u001b[0m \u001b[0mi\u001b[0m\u001b[0;34m:\u001b[0m\u001b[0;34m\u001b[0m\u001b[0m\n\u001b[0m\u001b[1;32m      8\u001b[0m         \u001b[0md\u001b[0m\u001b[0;34m[\u001b[0m\u001b[0;34m'ID'\u001b[0m\u001b[0;34m]\u001b[0m\u001b[0;34m.\u001b[0m\u001b[0mappend\u001b[0m\u001b[0;34m(\u001b[0m\u001b[0mrow\u001b[0m\u001b[0;34m[\u001b[0m\u001b[0;36m0\u001b[0m\u001b[0;34m]\u001b[0m\u001b[0;34m)\u001b[0m\u001b[0;34m\u001b[0m\u001b[0m\n\u001b[1;32m      9\u001b[0m         \u001b[0md\u001b[0m\u001b[0;34m[\u001b[0m\u001b[0;34m'Category'\u001b[0m\u001b[0;34m]\u001b[0m\u001b[0;34m.\u001b[0m\u001b[0mappend\u001b[0m\u001b[0;34m(\u001b[0m\u001b[0mrow\u001b[0m\u001b[0;34m[\u001b[0m\u001b[0;36m2\u001b[0m\u001b[0;34m]\u001b[0m\u001b[0;34m)\u001b[0m\u001b[0;34m\u001b[0m\u001b[0m\n",
      "\u001b[0;31mIndexError\u001b[0m: string index out of range"
     ]
    }
   ],
   "source": [
    "i = 0\n",
    "j = 0\n",
    "d = {'ID': [],\n",
    "     'Category': [],\n",
    "     'Review': [] }\n",
    "\n",
    "for row in training_set[1:14]:\n",
    "    print(row[0])\n",
    "# for row in training_set[1:62]:\n",
    "#     if int(row[0]) == i:\n",
    "#         d['ID'].append(row[0])\n",
    "#         d['Category'].append(row[2])\n",
    "#         d['Review'].append(row[4:])\n",
    "#         i += 1\n",
    "#     else:\n",
    "#         print(\"no\")\n",
    "#     continue\n",
    "# print(d)"
   ]
  },
  {
   "cell_type": "code",
   "execution_count": null,
   "metadata": {
    "collapsed": false
   },
   "outputs": [],
   "source": [
    "\n"
   ]
  },
  {
   "cell_type": "code",
   "execution_count": null,
   "metadata": {
    "collapsed": false
   },
   "outputs": [],
   "source": []
  },
  {
   "cell_type": "code",
   "execution_count": null,
   "metadata": {
    "collapsed": true
   },
   "outputs": [],
   "source": []
  }
 ],
 "metadata": {
  "anaconda-cloud": {},
  "kernelspec": {
   "display_name": "Python [Root]",
   "language": "python",
   "name": "Python [Root]"
  },
  "language_info": {
   "codemirror_mode": {
    "name": "ipython",
    "version": 3
   },
   "file_extension": ".py",
   "mimetype": "text/x-python",
   "name": "python",
   "nbconvert_exporter": "python",
   "pygments_lexer": "ipython3",
   "version": "3.5.2"
  }
 },
 "nbformat": 4,
 "nbformat_minor": 0
}
